{
  "nbformat": 4,
  "nbformat_minor": 0,
  "metadata": {
    "colab": {
      "provenance": [],
      "authorship_tag": "ABX9TyPjbw/Dp5bSt0Ecq074TQh3",
      "include_colab_link": true
    },
    "kernelspec": {
      "name": "python3",
      "display_name": "Python 3"
    },
    "language_info": {
      "name": "python"
    }
  },
  "cells": [
    {
      "cell_type": "markdown",
      "metadata": {
        "id": "view-in-github",
        "colab_type": "text"
      },
      "source": [
        "<a href=\"https://colab.research.google.com/github/Ednaomullo/Edna_omullo/blob/main/Edna_Omullo_PROJECT.ipynb\" target=\"_parent\"><img src=\"https://colab.research.google.com/assets/colab-badge.svg\" alt=\"Open In Colab\"/></a>"
      ]
    },
    {
      "cell_type": "code",
      "execution_count": 6,
      "metadata": {
        "colab": {
          "base_uri": "https://localhost:8080/"
        },
        "id": "fhOdaCQvHXvR",
        "outputId": "6c57545f-b634-45da-98f4-bb554ffa178c"
      },
      "outputs": [
        {
          "output_type": "stream",
          "name": "stdout",
          "text": [
            "('movie tittle', 'name of the director', 'year of release')\n"
          ]
        }
      ],
      "source": [
        "myvar=\"movie tittle\"\n",
        "my_var=\"name of the director\"\n",
        "myvar2=\"year of release\"\n",
        "x=(\"movie tittle\",\"name of the director\",\"year of release\")\n",
        "print(x)"
      ]
    },
    {
      "cell_type": "code",
      "source": [
        "x={\"myvar\":\"heart of the hunter\",\"my_var\":\"Mandla Walter Dube\",\"myvar2\":\"2024\"}\n",
        "y={\"myvar\":\"bionic\",\"my_var\":\"Afonso Poyart\",\"myvar2\":\"2024\"}\n",
        "z={\"myvar\":\"damsel\",\"my_var\":\"Juan Carlos Fresnalido\",\"myvar2\":\"2024\"}\n",
        "print(x)\n",
        "print(y)\n",
        "print(z)"
      ],
      "metadata": {
        "colab": {
          "base_uri": "https://localhost:8080/"
        },
        "id": "Gi9oFMbgKDNa",
        "outputId": "083e2152-6604-4ed3-9cf8-91fb73405843"
      },
      "execution_count": 4,
      "outputs": [
        {
          "output_type": "stream",
          "name": "stdout",
          "text": [
            "{'myvar': 'heart of the hunter', 'my_var': 'Mandla Walter Dube', 'myvar2': '2024'}\n",
            "{'myvar': 'bionic', 'my_var': 'Afonso Poyart', 'myvar2': '2024'}\n",
            "{'myvar': 'damsel', 'my_var': 'Juan Carlos Fresnalido', 'myvar2': '2024'}\n"
          ]
        }
      ]
    },
    {
      "cell_type": "code",
      "source": [
        "my_var2=\"heart of the hunter\"\n",
        "myvar3=\"bionic\"\n",
        "myvar4=\"damsel\"\n",
        "x=(\"heart of the hunter\",\"bionic\",\"damsel\")\n",
        "print(x)"
      ],
      "metadata": {
        "colab": {
          "base_uri": "https://localhost:8080/"
        },
        "id": "QfjwrXcIOTag",
        "outputId": "50b2b0db-769e-46e9-ec2a-ff109d4ad00e"
      },
      "execution_count": 7,
      "outputs": [
        {
          "output_type": "stream",
          "name": "stdout",
          "text": [
            "('heart of the hunter', 'bionic', 'damsel')\n"
          ]
        }
      ]
    },
    {
      "cell_type": "code",
      "source": [
        "my_var2=\"heart of the hunter\"\n",
        "myvar3=\"bionic\"\n",
        "myvar4=\"damsel\"\n",
        "x=(\"Action\")\n",
        "y=(\"Sci-fithriller\")\n",
        "z=(\"Action\")\n",
        "print(x)\n",
        "print(y)\n",
        "print(z)"
      ],
      "metadata": {
        "colab": {
          "base_uri": "https://localhost:8080/"
        },
        "id": "3He6Hge8PHJ4",
        "outputId": "ce9b0a81-d55e-4565-90a1-374551a2086a"
      },
      "execution_count": 13,
      "outputs": [
        {
          "output_type": "stream",
          "name": "stdout",
          "text": [
            "Action\n",
            "Sci-fithriller\n",
            "Action\n"
          ]
        }
      ]
    }
  ]
}